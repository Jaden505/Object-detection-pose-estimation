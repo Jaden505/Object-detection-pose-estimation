{
 "cells": [
  {
   "cell_type": "code",
   "execution_count": 1,
   "metadata": {},
   "outputs": [],
   "source": [
    "from prep_data import PrepData\n",
    "from anchor_boxes import *\n",
    "from yolo_model import *\n",
    "from predicting import *\n",
    "\n",
    "import numpy as np\n",
    "import tensorflow as tf\n",
    "from tensorflow.keras.models import model_from_json"
   ]
  },
  {
   "cell_type": "code",
   "execution_count": 5,
   "metadata": {},
   "outputs": [],
   "source": [
    "input_shape = (676, 380, 3)\n",
    "grid_dim = 13\n",
    "anchor_sizes = [(0.2, 0.1), (0.3, 0.2), (0.4, 0.3), (0.5, 0.4)]\n",
    "num_anchors = len(anchor_sizes)"
   ]
  },
  {
   "cell_type": "code",
   "execution_count": 6,
   "metadata": {},
   "outputs": [
    {
     "data": {
      "text/plain": [
       "(1001, 676, 380, 3)"
      ]
     },
     "execution_count": 6,
     "metadata": {},
     "output_type": "execute_result"
    }
   ],
   "source": [
    "p = PrepData()\n",
    "train, test = p.load_images()\n",
    "labels = p.connect_labels(train, grid_dim, anchor_sizes, iou_vectorized)\n",
    "train, test = p.preprocess_images(train), p.preprocess_images(test)\n",
    "\n",
    "# swap axes of x and y of the image\n",
    "train = np.swapaxes(train, 1, 2)\n",
    "test = np.swapaxes(test, 1, 2)\n",
    "train.shape"
   ]
  },
  {
   "cell_type": "code",
   "execution_count": 2,
   "metadata": {},
   "outputs": [],
   "source": [
    "def custom_iou_loss(y_true, y_pred):\n",
    "    # Compute IOUs\n",
    "    ious = iou_vectorized(y_true[..., :4], y_pred[..., :4])\n",
    "    iou_loss = tf.abs(ious - y_true[..., -1]) # IOU losses - the confidence scores\n",
    "    \n",
    "    # Mean squared error over IOU losses\n",
    "    return tf.reduce_mean(tf.square(iou_loss))\n",
    "\n",
    "def custom_iou_metric(y_true, y_pred):\n",
    "    ious = iou_vectorized(y_true[..., :4], y_pred[..., :4])\n",
    "    return tf.reduce_mean(ious)"
   ]
  },
  {
   "cell_type": "code",
   "execution_count": 26,
   "metadata": {},
   "outputs": [
    {
     "name": "stderr",
     "output_type": "stream",
     "text": [
      "/Users/jadenvanrijswijk/Code/Car Pose Estimation/.venv/lib/python3.12/site-packages/keras/src/layers/activations/leaky_relu.py:41: UserWarning: Argument `alpha` is deprecated. Use `negative_slope` instead.\n",
      "  warnings.warn(\n"
     ]
    },
    {
     "name": "stdout",
     "output_type": "stream",
     "text": [
      "\u001b[1m63/63\u001b[0m \u001b[32m━━━━━━━━━━━━━━━━━━━━\u001b[0m\u001b[37m\u001b[0m \u001b[1m181s\u001b[0m 3s/step - accuracy: 0.0453 - custom_iou_metric: 1.2937e-05 - loss: 8.4267e-07\n"
     ]
    },
    {
     "data": {
      "text/plain": [
       "<keras.src.callbacks.history.History at 0x2a180e690>"
      ]
     },
     "execution_count": 26,
     "metadata": {},
     "output_type": "execute_result"
    }
   ],
   "source": [
    "model = yolo_model(input_shape, grid_dim, num_anchors)\n",
    "model.compile(optimizer='adam', loss=custom_iou_loss, metrics=['accuracy', custom_iou_metric])\n",
    "model.fit(train, labels, epochs=1, batch_size=16, verbose=1)"
   ]
  },
  {
   "cell_type": "code",
   "execution_count": 28,
   "metadata": {},
   "outputs": [
    {
     "name": "stdout",
     "output_type": "stream",
     "text": [
      "Model saved to disk\n"
     ]
    }
   ],
   "source": [
    "# Save the model\n",
    "model_json = model.to_json()\n",
    "with open(\"model.json\", \"w\") as json_file:\n",
    "    json_file.write(model_json)\n",
    "model.save_weights(\"model.weights.h5\")"
   ]
  },
  {
   "cell_type": "code",
   "execution_count": 3,
   "metadata": {},
   "outputs": [],
   "source": [
    "# Load the model\n",
    "json_file = open('./model/model.json', 'r') \n",
    "loaded_model_json = json_file.read()\n",
    "json_file.close()\n",
    "model = model_from_json(loaded_model_json, custom_objects={'custom_iou_loss': custom_iou_loss, 'custom_iou_metric': custom_iou_metric})\n",
    "model.load_weights(\"./model/model.weights.h5\") # set weights"
   ]
  },
  {
   "cell_type": "code",
   "execution_count": 7,
   "metadata": {},
   "outputs": [
    {
     "name": "stderr",
     "output_type": "stream",
     "text": [
      "WARNING: All log messages before absl::InitializeLog() is called are written to STDERR\n",
      "I0000 00:00:1712596803.575366 40835845 service.cc:145] XLA service 0x2d42a1870 initialized for platform Host (this does not guarantee that XLA will be used). Devices:\n",
      "I0000 00:00:1712596803.576093 40835845 service.cc:153]   StreamExecutor device (0): Host, Default Version\n",
      "2024-04-08 19:20:03.617114: I tensorflow/compiler/mlir/tensorflow/utils/dump_mlir_util.cc:268] disabling MLIR crash reproducer, set env var `MLIR_CRASH_REPRODUCER_DIRECTORY` to enable.\n",
      "I0000 00:00:1712596804.004993 40835845 device_compiler.h:188] Compiled cluster using XLA!  This line is logged at most once for the lifetime of the process.\n"
     ]
    },
    {
     "name": "stdout",
     "output_type": "stream",
     "text": [
      "\u001b[1m1/1\u001b[0m \u001b[32m━━━━━━━━━━━━━━━━━━━━\u001b[0m\u001b[37m\u001b[0m \u001b[1m2s\u001b[0m 2s/step\n"
     ]
    }
   ],
   "source": [
    "image = test[0].tolist()\n",
    "predicted_image = predict_image(image, model, grid_dim, iou_vectorized)\n",
    "\n",
    "# show image until user presses a key\n",
    "cv2.imshow('image', predicted_image)\n",
    "cv2.waitKey(0)\n",
    "cv2.destroyAllWindows()"
   ]
  }
 ],
 "metadata": {
  "kernelspec": {
   "display_name": ".venv",
   "language": "python",
   "name": "python3"
  },
  "language_info": {
   "codemirror_mode": {
    "name": "ipython",
    "version": 3
   },
   "file_extension": ".py",
   "mimetype": "text/x-python",
   "name": "python",
   "nbconvert_exporter": "python",
   "pygments_lexer": "ipython3",
   "version": "3.12.2"
  }
 },
 "nbformat": 4,
 "nbformat_minor": 2
}
