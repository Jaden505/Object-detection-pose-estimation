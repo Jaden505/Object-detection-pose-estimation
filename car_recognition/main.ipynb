{
 "cells": [
  {
   "cell_type": "code",
   "execution_count": 1,
   "metadata": {},
   "outputs": [],
   "source": [
    "from prep_data import PrepData\n",
    "from anchor_boxes import *\n",
    "from yolo_model import *\n",
    "\n",
    "import numpy as np\n",
    "import tensorflow as tf\n",
    "\n",
    "from tensorflow.python.ops.gen_math_ops import sigmoid, exp"
   ]
  },
  {
   "cell_type": "code",
   "execution_count": 2,
   "metadata": {},
   "outputs": [],
   "source": [
    "input_shape = (676, 380, 3)\n",
    "grid_dim = 13\n",
    "anchor_sizes = [(0.2, 0.1), (0.3, 0.2), (0.4, 0.3), (0.5, 0.4)]\n",
    "num_anchors = len(anchor_sizes)"
   ]
  },
  {
   "cell_type": "code",
   "execution_count": 3,
   "metadata": {},
   "outputs": [],
   "source": [
    "p = PrepData()\n",
    "train, test = p.load_images()\n",
    "labels = p.connect_labels(train, grid_dim, anchor_sizes, iou_anchor_label)\n",
    "train, test = p.preprocess_images(train), p.preprocess_images(test)"
   ]
  },
  {
   "cell_type": "code",
   "execution_count": 4,
   "metadata": {},
   "outputs": [
    {
     "data": {
      "text/plain": [
       "(1001, 676, 380, 3)"
      ]
     },
     "execution_count": 4,
     "metadata": {},
     "output_type": "execute_result"
    }
   ],
   "source": [
    "# swap axes of x and y of the image\n",
    "train = np.swapaxes(train, 1, 2)\n",
    "test = np.swapaxes(test, 1, 2)\n",
    "train.shape"
   ]
  },
  {
   "cell_type": "code",
   "execution_count": 17,
   "metadata": {},
   "outputs": [],
   "source": [
    "def prediction_to_box(prediction, grid_dim, anchor_sizes, i, j, k):\n",
    "    x, y, w, h = prediction[0], prediction[1], prediction[2], prediction[3]\n",
    "    \n",
    "    # Sigmoid and exp transformations to get the box coordinates from normalized cell coordinates\n",
    "    x = (sigmoid(x) + i) / grid_dim\n",
    "    y = (sigmoid(y) + j) / grid_dim\n",
    "    w = anchor_sizes[k][0] * exp(w)\n",
    "    h = anchor_sizes[k][1] * exp(h)\n",
    "                \n",
    "    return x, y, w, h\n",
    "\n",
    "\n",
    "def custom_loss(grid_dim, anchor_sizes):\n",
    "    def loss(labels, predictions):\n",
    "        def process_per_example(args):\n",
    "            y_true, y_pred = args\n",
    "            errors = []\n",
    "\n",
    "            for i in range(grid_dim):\n",
    "                for j in range(grid_dim):\n",
    "                    for k in range(len(anchor_sizes)):\n",
    "                        min_box_index = k * 5\n",
    "                        max_box_index = min_box_index + 5\n",
    "                        \n",
    "                        pred_box_norm = y_pred[i, j, min_box_index:max_box_index]\n",
    "                        true_box_norm = y_true[i, j, min_box_index:max_box_index]\n",
    "                        \n",
    "                        pred_box = prediction_to_box(pred_box_norm[:-1], grid_dim, anchor_sizes, i, j, k)\n",
    "                        true_box = prediction_to_box(true_box_norm[:-1], grid_dim, anchor_sizes, i, j, k)\n",
    "                        \n",
    "                        iou_score = iou_pred_label(true_box, pred_box)\n",
    "                        iou_loss = tf.abs(iou_score - pred_box_norm[-1])\n",
    "                        errors.append(iou_loss)\n",
    "            \n",
    "            return tf.reduce_mean(tf.square(errors))\n",
    "\n",
    "        # This maps the function over the first dimension of labels and predictions, effectively iterating over the batch\n",
    "        batch_loss = tf.map_fn(process_per_example, (labels, predictions), dtype=tf.float32)\n",
    "        \n",
    "        # Return the mean loss over the batch\n",
    "        return tf.reduce_mean(batch_loss)\n",
    "    \n",
    "    \n",
    "    print(f\"Loss: {loss}\")\n",
    "    return loss\n",
    "\n",
    "\n",
    "def iou_metric(y_true, y_pred):\n",
    "    iou_scores = []\n",
    "    \n",
    "    y_true = tf.squeeze(y_true, axis=0)\n",
    "    y_pred = tf.squeeze(y_pred, axis=0)\n",
    "    \n",
    "    for i in range(grid_dim):\n",
    "        for j in range(grid_dim):\n",
    "            for k in range(len(anchor_sizes)):\n",
    "                pred_box_norm = y_pred[i][j][k*5: k*5+5]\n",
    "                true_box_norm = y_true[i][j][k*5: k*5+5]   \n",
    "\n",
    "                pred_box = prediction_to_box(pred_box_norm[:-1], grid_dim, anchor_sizes, i, j, k)\n",
    "                true_box = prediction_to_box(true_box_norm[:-1], grid_dim, anchor_sizes, i, j, k)\n",
    "\n",
    "                iou_scores.append(iou_pred_label(true_box, pred_box))\n",
    "                \n",
    "    return tf.reduce_mean(iou_scores)"
   ]
  },
  {
   "cell_type": "code",
   "execution_count": 18,
   "metadata": {},
   "outputs": [],
   "source": [
    "model = yolo_model(input_shape, grid_dim, num_anchors)\n",
    "model.compile(optimizer='adam', loss=custom_loss(grid_dim, anchor_sizes), metrics=['accuracy'])"
   ]
  },
  {
   "cell_type": "code",
   "execution_count": 19,
   "metadata": {},
   "outputs": [
    {
     "name": "stdout",
     "output_type": "stream",
     "text": [
      "Epoch 1/3\n",
      "WARNING:tensorflow:From /Users/jadenvanrijswijk/Car Pose Estimation/.venv/lib/python3.12/site-packages/tensorflow/python/util/deprecation.py:660: calling map_fn_v2 (from tensorflow.python.ops.map_fn) with dtype is deprecated and will be removed in a future version.\n",
      "Instructions for updating:\n",
      "Use fn_output_signature instead\n"
     ]
    }
   ],
   "source": [
    "model.fit(train, labels, epochs=3, batch_size=16)\n",
    "model.evaluate(test, labels)"
   ]
  }
 ],
 "metadata": {
  "kernelspec": {
   "display_name": ".venv",
   "language": "python",
   "name": "python3"
  },
  "language_info": {
   "codemirror_mode": {
    "name": "ipython",
    "version": 3
   },
   "file_extension": ".py",
   "mimetype": "text/x-python",
   "name": "python",
   "nbconvert_exporter": "python",
   "pygments_lexer": "ipython3",
   "version": "3.12.2"
  }
 },
 "nbformat": 4,
 "nbformat_minor": 2
}
