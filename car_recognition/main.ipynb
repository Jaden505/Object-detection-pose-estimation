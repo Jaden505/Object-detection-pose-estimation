{
 "cells": [
  {
   "cell_type": "code",
   "execution_count": 6,
   "metadata": {},
   "outputs": [],
   "source": [
    "from prep_data import PrepData\n",
    "from anchor_boxes import *\n",
    "from yolo_model import *\n",
    "from predicting import *\n",
    "\n",
    "import numpy as np\n",
    "import tensorflow as tf"
   ]
  },
  {
   "cell_type": "code",
   "execution_count": 4,
   "metadata": {},
   "outputs": [],
   "source": [
    "input_shape = (676, 380, 3)\n",
    "grid_dim = 13\n",
    "anchor_sizes = [(0.2, 0.1), (0.3, 0.2), (0.4, 0.3), (0.5, 0.4)]\n",
    "num_anchors = len(anchor_sizes)"
   ]
  },
  {
   "cell_type": "code",
   "execution_count": 5,
   "metadata": {},
   "outputs": [
    {
     "data": {
      "text/plain": [
       "(1001, 676, 380, 3)"
      ]
     },
     "execution_count": 5,
     "metadata": {},
     "output_type": "execute_result"
    }
   ],
   "source": [
    "p = PrepData()\n",
    "train, test = p.load_images()\n",
    "labels = p.connect_labels(train, grid_dim, anchor_sizes, iou_vectorized)\n",
    "train, test = p.preprocess_images(train), p.preprocess_images(test)\n",
    "\n",
    "# swap axes of x and y of the image\n",
    "train = np.swapaxes(train, 1, 2)\n",
    "test = np.swapaxes(test, 1, 2)\n",
    "train.shape"
   ]
  },
  {
   "cell_type": "code",
   "execution_count": 9,
   "metadata": {},
   "outputs": [],
   "source": [
    "def custom_iou_loss(y_true, y_pred):\n",
    "    # Compute IOUs\n",
    "    ious = iou_vectorized(y_true[..., :4], y_pred[..., :4])\n",
    "    iou_loss = tf.abs(ious - y_true[..., -1]) # IOU losses - the confidence scores\n",
    "    \n",
    "    # Mean squared error over IOU losses\n",
    "    return tf.reduce_mean(tf.square(iou_loss))\n",
    "\n",
    "def custom_iou_metric(y_true, y_pred):\n",
    "    ious = iou_vectorized(y_true[..., :4], y_pred[..., :4])\n",
    "    return tf.reduce_mean(ious)"
   ]
  },
  {
   "cell_type": "code",
   "execution_count": null,
   "metadata": {},
   "outputs": [],
   "source": [
    "model = yolo_model(input_shape, grid_dim, num_anchors)\n",
    "model.compile(optimizer='adam', loss=custom_iou_loss, metrics=['accuracy', custom_iou_metric])\n",
    "model.fit(train, labels, epochs=3, batch_size=16, verbose=1)"
   ]
  },
  {
   "cell_type": "code",
   "execution_count": 7,
   "metadata": {},
   "outputs": [
    {
     "ename": "NameError",
     "evalue": "name 'model' is not defined",
     "output_type": "error",
     "traceback": [
      "\u001b[0;31m---------------------------------------------------------------------------\u001b[0m",
      "\u001b[0;31mNameError\u001b[0m                                 Traceback (most recent call last)",
      "Cell \u001b[0;32mIn[7], line 31\u001b[0m\n\u001b[1;32m     28\u001b[0m     \u001b[38;5;28;01mreturn\u001b[39;00m draw_boxes(image[\u001b[38;5;241m0\u001b[39m], boxes)\n\u001b[1;32m     30\u001b[0m image \u001b[38;5;241m=\u001b[39m test[\u001b[38;5;241m0\u001b[39m]\n\u001b[0;32m---> 31\u001b[0m predicted_image \u001b[38;5;241m=\u001b[39m predict_image(image, \u001b[43mmodel\u001b[49m)\n",
      "\u001b[0;31mNameError\u001b[0m: name 'model' is not defined"
     ]
    }
   ],
   "source": [
    "image = test[0]\n",
    "predicted_image = predict_image(image, model)\n",
    "cv2.imshow('image', predicted_image)"
   ]
  }
 ],
 "metadata": {
  "kernelspec": {
   "display_name": ".venv",
   "language": "python",
   "name": "python3"
  },
  "language_info": {
   "codemirror_mode": {
    "name": "ipython",
    "version": 3
   },
   "file_extension": ".py",
   "mimetype": "text/x-python",
   "name": "python",
   "nbconvert_exporter": "python",
   "pygments_lexer": "ipython3",
   "version": "3.12.2"
  }
 },
 "nbformat": 4,
 "nbformat_minor": 2
}
