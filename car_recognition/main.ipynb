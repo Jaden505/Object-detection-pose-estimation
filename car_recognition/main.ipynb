{
 "cells": [
  {
   "cell_type": "code",
   "execution_count": 1,
   "metadata": {},
   "outputs": [],
   "source": [
    "from prep_data import PrepData\n",
    "from anchor_boxes import *\n",
    "from yolo_model import *\n",
    "\n",
    "import numpy as np\n",
    "import tensorflow as tf"
   ]
  },
  {
   "cell_type": "code",
   "execution_count": 2,
   "metadata": {},
   "outputs": [],
   "source": [
    "input_shape = (676, 380, 3)\n",
    "grid_dim = 13\n",
    "anchor_sizes = [(0.1, 0.1), (0.2, 0.2), (0.3, 0.3)]\n",
    "num_anchors_persize = 2\n",
    "num_anchors = num_anchors_persize * len(anchor_sizes)"
   ]
  },
  {
   "cell_type": "code",
   "execution_count": 3,
   "metadata": {},
   "outputs": [],
   "source": [
    "anchor_boxes = create_anchor_boxes((grid_dim, grid_dim), num_anchors)\n",
    "\n",
    "p = PrepData()\n",
    "train, test = p.load_images()\n",
    "labels = p.connect_labels(train, grid_dim, num_anchors, anchor_boxes, iou_anchor_label)\n",
    "train, test = p.preprocess_images(train), p.preprocess_images(test)"
   ]
  },
  {
   "cell_type": "code",
   "execution_count": 4,
   "metadata": {},
   "outputs": [
    {
     "data": {
      "text/plain": [
       "(1001, 676, 380, 3)"
      ]
     },
     "execution_count": 4,
     "metadata": {},
     "output_type": "execute_result"
    }
   ],
   "source": [
    "# swap axes of x and y of the image\n",
    "train = np.swapaxes(train, 1, 2)\n",
    "test = np.swapaxes(test, 1, 2)\n",
    "train.shape"
   ]
  },
  {
   "cell_type": "code",
   "execution_count": 13,
   "metadata": {},
   "outputs": [],
   "source": [
    "def custom_loss(grid_dim, num_anchors):\n",
    "    def loss(labels, predictions):\n",
    "        errors = []\n",
    "\n",
    "        for i in range(grid_dim):\n",
    "            for j in range(grid_dim):\n",
    "                predicted_boxes = labels[i][j] + predictions[i][j]\n",
    "                \n",
    "                # Calculate iou scores and loss for each anchor box\n",
    "                for k in range(num_anchors):\n",
    "                    box = predicted_boxes[k]\n",
    "                    label_box = labels[i][j][k]\n",
    "                    iou_score = iou_pred_label(box, label_box)\n",
    "                    \n",
    "                    confidence = predictions[i, j, k, 4]\n",
    "                    print(confidence)\n",
    "                    print(predictions[i, j, k])\n",
    "                    errors.append(tf.abs(iou_score - confidence))\n",
    "\n",
    "        # Return MSE of the errors\n",
    "        return tf.reduce_mean(tf.square(errors))\n",
    "    return loss"
   ]
  },
  {
   "cell_type": "code",
   "execution_count": 14,
   "metadata": {},
   "outputs": [
    {
     "name": "stderr",
     "output_type": "stream",
     "text": [
      "/Users/jadenvanrijswijk/Car Pose Estimation/.venv/lib/python3.12/site-packages/keras/src/layers/activations/leaky_relu.py:41: UserWarning: Argument `alpha` is deprecated. Use `negative_slope` instead.\n",
      "  warnings.warn(\n"
     ]
    }
   ],
   "source": [
    "model = yolo_model(input_shape, grid_dim, num_anchors)\n",
    "model.compile(optimizer='adam', loss=custom_loss(grid_dim, num_anchors), metrics=['accuracy'])"
   ]
  },
  {
   "cell_type": "code",
   "execution_count": 15,
   "metadata": {},
   "outputs": [
    {
     "name": "stdout",
     "output_type": "stream",
     "text": [
      "Epoch 1/10\n"
     ]
    },
    {
     "ename": "NameError",
     "evalue": "name 'iou_pred_label' is not defined",
     "output_type": "error",
     "traceback": [
      "\u001b[0;31m---------------------------------------------------------------------------\u001b[0m",
      "\u001b[0;31mNameError\u001b[0m                                 Traceback (most recent call last)",
      "Cell \u001b[0;32mIn[15], line 1\u001b[0m\n\u001b[0;32m----> 1\u001b[0m \u001b[43mmodel\u001b[49m\u001b[38;5;241;43m.\u001b[39;49m\u001b[43mfit\u001b[49m\u001b[43m(\u001b[49m\u001b[43mtrain\u001b[49m\u001b[43m,\u001b[49m\u001b[43m \u001b[49m\u001b[43mlabels\u001b[49m\u001b[43m,\u001b[49m\u001b[43m \u001b[49m\u001b[43mepochs\u001b[49m\u001b[38;5;241;43m=\u001b[39;49m\u001b[38;5;241;43m10\u001b[39;49m\u001b[43m,\u001b[49m\u001b[43m \u001b[49m\u001b[43mbatch_size\u001b[49m\u001b[38;5;241;43m=\u001b[39;49m\u001b[38;5;241;43m16\u001b[39;49m\u001b[43m)\u001b[49m\n\u001b[1;32m      2\u001b[0m model\u001b[38;5;241m.\u001b[39mevaluate(test, labels)\n",
      "File \u001b[0;32m~/Car Pose Estimation/.venv/lib/python3.12/site-packages/keras/src/utils/traceback_utils.py:122\u001b[0m, in \u001b[0;36mfilter_traceback.<locals>.error_handler\u001b[0;34m(*args, **kwargs)\u001b[0m\n\u001b[1;32m    119\u001b[0m     filtered_tb \u001b[38;5;241m=\u001b[39m _process_traceback_frames(e\u001b[38;5;241m.\u001b[39m__traceback__)\n\u001b[1;32m    120\u001b[0m     \u001b[38;5;66;03m# To get the full stack trace, call:\u001b[39;00m\n\u001b[1;32m    121\u001b[0m     \u001b[38;5;66;03m# `keras.config.disable_traceback_filtering()`\u001b[39;00m\n\u001b[0;32m--> 122\u001b[0m     \u001b[38;5;28;01mraise\u001b[39;00m e\u001b[38;5;241m.\u001b[39mwith_traceback(filtered_tb) \u001b[38;5;28;01mfrom\u001b[39;00m \u001b[38;5;28;01mNone\u001b[39;00m\n\u001b[1;32m    123\u001b[0m \u001b[38;5;28;01mfinally\u001b[39;00m:\n\u001b[1;32m    124\u001b[0m     \u001b[38;5;28;01mdel\u001b[39;00m filtered_tb\n",
      "Cell \u001b[0;32mIn[13], line 13\u001b[0m, in \u001b[0;36mcustom_loss.<locals>.loss\u001b[0;34m(labels, predictions)\u001b[0m\n\u001b[1;32m     11\u001b[0m box \u001b[38;5;241m=\u001b[39m predicted_boxes[k]\n\u001b[1;32m     12\u001b[0m label_box \u001b[38;5;241m=\u001b[39m labels[i][j][k]\n\u001b[0;32m---> 13\u001b[0m iou_score \u001b[38;5;241m=\u001b[39m \u001b[43miou_pred_label\u001b[49m(box, label_box)\n\u001b[1;32m     15\u001b[0m confidence \u001b[38;5;241m=\u001b[39m predictions[i, j, k, \u001b[38;5;241m4\u001b[39m]\n\u001b[1;32m     16\u001b[0m \u001b[38;5;28mprint\u001b[39m(confidence)\n",
      "\u001b[0;31mNameError\u001b[0m: name 'iou_pred_label' is not defined"
     ]
    }
   ],
   "source": [
    "model.fit(train, labels, epochs=10, batch_size=16)\n",
    "model.evaluate(test, labels)"
   ]
  }
 ],
 "metadata": {
  "kernelspec": {
   "display_name": ".venv",
   "language": "python",
   "name": "python3"
  },
  "language_info": {
   "codemirror_mode": {
    "name": "ipython",
    "version": 3
   },
   "file_extension": ".py",
   "mimetype": "text/x-python",
   "name": "python",
   "nbconvert_exporter": "python",
   "pygments_lexer": "ipython3",
   "version": "3.12.2"
  }
 },
 "nbformat": 4,
 "nbformat_minor": 2
}
